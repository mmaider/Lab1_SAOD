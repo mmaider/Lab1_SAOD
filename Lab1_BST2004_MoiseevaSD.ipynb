{
 "cells": [
  {
   "cell_type": "markdown",
   "id": "7b8bdcc2",
   "metadata": {},
   "source": [
    "# Лабораторная работа №1\n",
    "## Выполнила студентка группы БСТ2004 Моисеева Софья\n",
    "### Задание №1"
   ]
  },
  {
   "cell_type": "code",
   "execution_count": 46,
   "id": "22a19faf",
   "metadata": {},
   "outputs": [
    {
     "name": "stdout",
     "output_type": "stream",
     "text": [
      "Requirement already satisfied: pandas in c:\\users\\moise\\appdata\\local\\programs\\python\\python310\\lib\\site-packages (1.4.1)\n",
      "Requirement already satisfied: pytz>=2020.1 in c:\\users\\moise\\appdata\\local\\programs\\python\\python310\\lib\\site-packages (from pandas) (2021.3)\n",
      "Requirement already satisfied: python-dateutil>=2.8.1 in c:\\users\\moise\\appdata\\local\\programs\\python\\python310\\lib\\site-packages (from pandas) (2.8.2)\n",
      "Requirement already satisfied: numpy>=1.21.0 in c:\\users\\moise\\appdata\\local\\programs\\python\\python310\\lib\\site-packages (from pandas) (1.22.2)\n",
      "Requirement already satisfied: six>=1.5 in c:\\users\\moise\\appdata\\local\\programs\\python\\python310\\lib\\site-packages (from python-dateutil>=2.8.1->pandas) (1.16.0)\n",
      "Note: you may need to restart the kernel to use updated packages.\n"
     ]
    },
    {
     "name": "stderr",
     "output_type": "stream",
     "text": [
      "WARNING: You are using pip version 21.2.4; however, version 22.0.3 is available.\n",
      "You should consider upgrading via the 'C:\\Users\\moise\\AppData\\Local\\Programs\\Python\\Python310\\python.exe -m pip install --upgrade pip' command.\n"
     ]
    }
   ],
   "source": [
    "%pip install pandas"
   ]
  },
  {
   "cell_type": "code",
   "execution_count": 59,
   "id": "c2b9bac1",
   "metadata": {},
   "outputs": [
    {
     "name": "stdout",
     "output_type": "stream",
     "text": [
      "Hello,World!\n"
     ]
    }
   ],
   "source": [
    "print(\"Hello,World!\")"
   ]
  },
  {
   "cell_type": "markdown",
   "id": "8a9413bd",
   "metadata": {},
   "source": [
    "## Задание №2¶\n",
    "### Написать генератор случайных матриц(многомерных), который принимает опциональные параметры m, n, min_limit, max_limit, где m и n указывают размер матрицы, а min_lim и max_lim - минимальное и максимальное значение для генерируемого числа . По умолчанию при отсутствии параметров принимать следующие значения: m = 50 n = 50 min_limit = -250 max_limit = 1000 + (номер своего варианта (11))\n",
    "### Импорт необходимых библиотек"
   ]
  },
  {
   "cell_type": "code",
   "execution_count": 19,
   "id": "6c6527e5",
   "metadata": {},
   "outputs": [],
   "source": [
    "import random\n",
    "from random import randint\n",
    "import time\n",
    "import copy\n",
    "import math\n",
    "import pandas as pd"
   ]
  },
  {
   "cell_type": "code",
   "execution_count": 20,
   "id": "5c3fcc2e",
   "metadata": {},
   "outputs": [],
   "source": [
    "def zadanie2(A):\n",
    "\n",
    "    if A.lower() == \"да\":\n",
    "        m = int(input(\"Введите количество строк: \"))\n",
    "        n = int(input(\"Введите количество столбцов: \"))\n",
    "        min_limit = int(input(\"Введите минимальное число: \"))\n",
    "        max_limit = int(input(\"Введите максимальное число: \"))\n",
    "        matrix = [[randint(min_limit, max_limit+1) for j in range(n)] for i in range(m)]\n",
    "        return matrix\n",
    "    else:\n",
    "        m = 50\n",
    "        n = 50\n",
    "        min_limit = -250\n",
    "        max_limit = 1000 + 11\n",
    "        matrix = [[randint(min_limit, max_limit+1) for j in range(n)] for i in range(m)]\n",
    "        return matrix"
   ]
  },
  {
   "cell_type": "markdown",
   "id": "590aa57c",
   "metadata": {},
   "source": [
    "# Задание №3\n",
    "###Реализовать методы сортировки строк числовой матрицы в соответствии сзаданием. Оценить время работы каждого алгоритма сортировки и сравнить его со Временем стандартной функции сортировки. Испытания проводить на сгенерированныхматрицах.Методы:Выбором,Вставкой,Обменом,Шелла,Турнирная,Быстрая сортировка,Пирамидальная"
   ]
  },
  {
   "cell_type": "markdown",
   "id": "6969c2d0",
   "metadata": {},
   "source": [
    "## Перечисление функций:\n",
    "### Сортировка выбором "
   ]
  },
  {
   "cell_type": "code",
   "execution_count": 38,
   "id": "cce3ece4",
   "metadata": {},
   "outputs": [],
   "source": [
    "def Selection_sort(matrix):\n",
    "    for row in range(len(matrix)):\n",
    "        for i in range(len(matrix[row]) - 1):\n",
    "            m = i\n",
    "            j = i + 1\n",
    "            while j < len(matrix[row]):\n",
    "                if matrix[row][j] < matrix[row][m]:\n",
    "                    m = j\n",
    "                j = j + 1\n",
    "            matrix[row][i], matrix[row][m] = matrix[row][m], matrix[row][i]\n",
    "    return matrix"
   ]
  },
  {
   "cell_type": "markdown",
   "id": "7c41153c",
   "metadata": {},
   "source": [
    "### Сортировка вставкой"
   ]
  },
  {
   "cell_type": "code",
   "execution_count": 22,
   "id": "95b56bd2",
   "metadata": {},
   "outputs": [],
   "source": [
    "def insertion_sort(matrix):\n",
    "    for row in range(len(matrix)):\n",
    "        for col in range (1,len(matrix[0])):\n",
    "            key = matrix[row][col]\n",
    "            j = col-1\n",
    "            while j >=0 and key < matrix[row][j]:\n",
    "                matrix[row][j+1] = matrix[row][j]\n",
    "                j -= 1\n",
    "            matrix[row][j+1] = key\n",
    "    return matrix"
   ]
  },
  {
   "cell_type": "markdown",
   "id": "71ca4fc3",
   "metadata": {},
   "source": [
    "### Сортировка обменом (пузырьковая)"
   ]
  },
  {
   "cell_type": "code",
   "execution_count": 40,
   "id": "103cd98f",
   "metadata": {},
   "outputs": [],
   "source": [
    "def bubble_sort(matrix):\n",
    "    for row in range(len(matrix)):\n",
    "        for col in range(len(matrix[0])-1):\n",
    "            for j in range(len(matrix[0])-col-1):\n",
    "                if matrix[row][j] > matrix[row][j+1]:\n",
    "                    matrix[row][j], matrix[row][j+1] = matrix[row][j+1], matrix[row][j]\n",
    "    return matrix"
   ]
  },
  {
   "cell_type": "markdown",
   "id": "707e082c",
   "metadata": {},
   "source": [
    "### Сортировка Шелла"
   ]
  },
  {
   "cell_type": "code",
   "execution_count": 24,
   "id": "cd6290f6",
   "metadata": {},
   "outputs": [],
   "source": [
    "def shellSort(matrix):\n",
    "    n = len(matrix[0])\n",
    "    k = int(math.log2(n))\n",
    "    interval = int(2**k -1)\n",
    "    while interval > 0:\n",
    "        for row in range(len(matrix)):\n",
    "            for col in range(interval, n):\n",
    "                temp = matrix[row][col]\n",
    "                j = col\n",
    "                while j >= interval and matrix[row][j - interval] > temp:\n",
    "                    matrix[row][j] = matrix[row][j - interval]\n",
    "                    j -= interval\n",
    "                matrix[row][j] = temp\n",
    "        k -= 1\n",
    "        interval = int(2**k -1)\n",
    "    return matrix"
   ]
  },
  {
   "cell_type": "markdown",
   "id": "3bfd8f2d",
   "metadata": {},
   "source": [
    "### Турнирная сортировка"
   ]
  },
  {
   "cell_type": "code",
   "execution_count": 41,
   "id": "00ee5aaa",
   "metadata": {},
   "outputs": [],
   "source": [
    "def tournamentSort(matrix):\n",
    "    tree = [None] * 2 * (len(matrix) + len(matrix) % 2)\n",
    "    index = len(tree) - len(matrix) - len(matrix) % 2\n",
    "\n",
    "    for i, v in enumerate(matrix):\n",
    "        tree[index + i] = (i, v)\n",
    "\n",
    "    for j in range(len(matrix)):\n",
    "        n = len(matrix)\n",
    "        index = len(tree) - len(matrix) - len(matrix) % 2\n",
    "        while index > -1:\n",
    "            n = (n + 1) // 2\n",
    "            for i in range(n):\n",
    "                i = max(index + i * 2, 1)\n",
    "                if tree[i] != None and tree[i + 1] != None:\n",
    "                    if tree[i][1] < tree[i + 1][1]:\n",
    "                        tree[i // 2] = tree[i]\n",
    "                    else:\n",
    "                        tree[i // 2] = tree[i + 1]\n",
    "                else:\n",
    "                    tree[i // 2] = tree[i] if tree[i] != None else tree[i + 1]\n",
    "            index -= n\n",
    "\n",
    "        index, x = tree[0]\n",
    "        matrix[j] = x\n",
    "        tree[len(tree) - len(matrix) - len(matrix) % 2 + index] = None\n",
    "\n",
    "def TournamentSort(matrix):\n",
    "    for i in range(len(matrix)):\n",
    "        tournamentSort(matrix[i])\n",
    "    return matrix"
   ]
  },
  {
   "cell_type": "markdown",
   "id": "c65f409f",
   "metadata": {},
   "source": [
    "### Пирамидальная сортировка\n"
   ]
  },
  {
   "cell_type": "code",
   "execution_count": 26,
   "id": "e6bb3d9a",
   "metadata": {},
   "outputs": [],
   "source": [
    "def heapify(matrix, n, i, row):\n",
    "    largest = i\n",
    "    l = 2 * i + 1\n",
    "    r = 2 * i + 2\n",
    "    \n",
    "    if l < n and matrix[row][i] < matrix[row][l]:\n",
    "        largest = l\n",
    "    if r < n and matrix[row][largest] < matrix[row][r]:\n",
    "        largest = r\n",
    "    \n",
    "    if largest != i:\n",
    "        matrix[row][i], matrix[row][largest] = matrix[row][largest], matrix[row][i]\n",
    "        heapify(matrix, n, largest, row)\n",
    "        \n",
    "def heapSort(matrix):\n",
    "    for row in range(len(matrix)):\n",
    "        n = len(matrix[0])\n",
    "        for i in range(n//2, -1, -1):\n",
    "            heapify(matrix, n, i, row)\n",
    "        for i in range(n-1, 0, -1):\n",
    "            matrix[row][i], matrix[row][0] = matrix[row][0], matrix[row][i]\n",
    "            heapify(matrix, i, 0, row)\n",
    "    return matrix"
   ]
  },
  {
   "cell_type": "markdown",
   "id": "a1115cfb",
   "metadata": {},
   "source": [
    "### Быстрая сортировка"
   ]
  },
  {
   "cell_type": "code",
   "execution_count": 27,
   "id": "dafc7992",
   "metadata": {},
   "outputs": [],
   "source": [
    "def quick_sort(A):\n",
    "    if len(A) <= 1:\n",
    "        return A\n",
    "    else:\n",
    "        q = random.choice(A)\n",
    "        L = [elem for elem in A if elem < q]\n",
    "        M = [q] * A.count(q)\n",
    "        R = [elem for elem in A if elem > q] \n",
    "        return QuickSort(L) + M + QuickSort(R)\n",
    "    \n",
    "def Quick_sort_slice(matrix):\n",
    "    for i in range(len(matrix)):\n",
    "        matrix[i] = quick_sort(matrix[i])\n",
    "    return matrix"
   ]
  },
  {
   "cell_type": "markdown",
   "id": "854da1f0",
   "metadata": {},
   "source": [
    "### Программа"
   ]
  },
  {
   "cell_type": "code",
   "execution_count": 28,
   "id": "a615840a",
   "metadata": {},
   "outputs": [
    {
     "name": "stdout",
     "output_type": "stream",
     "text": [
      "Хотите ли вы указать параметры матрицы Да/Нет? да\n",
      "Введите количество строк: 7\n",
      "Введите количество столбцов: 7\n",
      "Введите минимальное число: 0\n",
      "Введите максимальное число: 10\n",
      "Сгененированная матрица:\n",
      "[7, 9, 1, 8, 2, 11, 4]\n",
      "[2, 10, 4, 1, 7, 5, 11]\n",
      "[2, 6, 5, 6, 10, 1, 8]\n",
      "[7, 1, 11, 7, 0, 11, 7]\n",
      "[3, 8, 3, 1, 10, 6, 0]\n",
      "[6, 7, 7, 11, 7, 5, 8]\n",
      "[5, 1, 9, 11, 3, 0, 9]\n"
     ]
    }
   ],
   "source": [
    "A = input(\"Хотите ли вы указать параметры матрицы Да/Нет? \")\n",
    "matrix = zadanie2(A)\n",
    "print(\"Сгененированная матрица:\")\n",
    "for i in range (len(matrix)):\n",
    "    print(matrix[i])"
   ]
  },
  {
   "cell_type": "code",
   "execution_count": 39,
   "id": "117cd725",
   "metadata": {},
   "outputs": [
    {
     "name": "stdout",
     "output_type": "stream",
     "text": [
      "Сортировка простым выбором\n",
      "[1, 2, 4, 7, 8, 9, 11]\n",
      "[1, 2, 4, 5, 7, 10, 11]\n",
      "[1, 2, 5, 6, 6, 8, 10]\n",
      "[0, 1, 7, 7, 7, 11, 11]\n",
      "[0, 1, 3, 3, 6, 8, 10]\n",
      "[5, 6, 7, 7, 7, 8, 11]\n",
      "[0, 1, 3, 5, 9, 9, 11]\n",
      "Время выполнения:  0.0008556842803955078 sec\n"
     ]
    }
   ],
   "source": [
    "Selection_sort_matrix = copy.deepcopy(matrix)\n",
    "A=time.time()\n",
    "Selection_sort(Selection_sort_matrix)\n",
    "B= time.time()-A\n",
    "print(\"Сортировка простым выбором\")\n",
    "\n",
    "for i in range (len(Selection_sort_matrix)):\n",
    "    print(Selection_sort_matrix[i])\n",
    "print(\"Время выполнения: \", B,\"sec\")  "
   ]
  },
  {
   "cell_type": "code",
   "execution_count": 34,
   "id": "921c0ba1",
   "metadata": {},
   "outputs": [
    {
     "name": "stdout",
     "output_type": "stream",
     "text": [
      "Сортировка вставкой\n",
      "[1, 2, 4, 7, 8, 9, 11]\n",
      "[1, 2, 4, 5, 7, 10, 11]\n",
      "[1, 2, 5, 6, 6, 8, 10]\n",
      "[0, 1, 7, 7, 7, 11, 11]\n",
      "[0, 1, 3, 3, 6, 8, 10]\n",
      "[5, 6, 7, 7, 7, 8, 11]\n",
      "[0, 1, 3, 5, 9, 9, 11]\n",
      "Время выполнения:  0.0 sec\n"
     ]
    }
   ],
   "source": [
    "insertion_sort_matrix = copy.deepcopy(matrix)\n",
    "A=time.time()\n",
    "insertion_sort(insertion_sort_matrix)\n",
    "B= time.time()-A\n",
    "print(\"Сортировка вставкой\")\n",
    "for i in range (len(insertion_sort_matrix)):\n",
    "    print(insertion_sort_matrix[i])\n",
    "print(\"Время выполнения: \", B,\"sec\")  "
   ]
  },
  {
   "cell_type": "code",
   "execution_count": 36,
   "id": "b945a149",
   "metadata": {},
   "outputs": [
    {
     "name": "stdout",
     "output_type": "stream",
     "text": [
      "Сортировка пузырьком\n",
      "[0, 4, 5, 5, 7, 8, 8]\n",
      "[0, 1, 2, 4, 5, 10, 11]\n",
      "[0, 4, 4, 5, 7, 8, 8]\n",
      "[0, 0, 4, 4, 7, 9, 10]\n",
      "[1, 3, 3, 6, 6, 10, 11]\n",
      "[2, 2, 2, 5, 7, 8, 10]\n",
      "[0, 0, 1, 2, 4, 7, 11]\n",
      "Время выполнения:  0.0 sec\n"
     ]
    }
   ],
   "source": [
    "bubble_sort_matrix = copy.deepcopy(matrix)\n",
    "A= time.time()\n",
    "bubble_sort(bubble_sort_matrix)\n",
    "B= time.time()-A\n",
    "print(\"Сортировка пузырьком\")\n",
    "for i in range(len(bubble_sort_matrix)):\n",
    "    print(bubble_sort_matrix[i])\n",
    "print(\"Время выполнения: \", B,\"sec\")"
   ]
  },
  {
   "cell_type": "code",
   "execution_count": 37,
   "id": "3e7036ed",
   "metadata": {},
   "outputs": [
    {
     "name": "stdout",
     "output_type": "stream",
     "text": [
      "Шелл сортировка\n",
      "[0, 4, 5, 5, 7, 8, 8]\n",
      "[0, 1, 2, 4, 5, 10, 11]\n",
      "[0, 4, 4, 5, 7, 8, 8]\n",
      "[0, 0, 4, 4, 7, 9, 10]\n",
      "[1, 3, 3, 6, 6, 10, 11]\n",
      "[2, 2, 2, 5, 7, 8, 10]\n",
      "[0, 0, 1, 2, 4, 7, 11]\n",
      "Время выполнения:  0.0 sec\n"
     ]
    }
   ],
   "source": [
    "shellSort_matrix = copy.deepcopy(matrix)\n",
    "A= time.time()\n",
    "shellSort(shellSort_matrix)\n",
    "B= time.time()-A\n",
    "print(\"Шелл сортировка\")\n",
    "for i in range(len(shellSort_matrix)):\n",
    "    print(shellSort_matrix[i])\n",
    "print(\"Время выполнения: \", B,\"sec\")"
   ]
  },
  {
   "cell_type": "code",
   "execution_count": 38,
   "id": "3ed3d0f3",
   "metadata": {},
   "outputs": [
    {
     "name": "stdout",
     "output_type": "stream",
     "text": [
      "Турнирная сортировка\n",
      "[0, 4, 5, 5, 7, 8, 8]\n",
      "[0, 1, 2, 4, 5, 10, 11]\n",
      "[0, 4, 4, 5, 7, 8, 8]\n",
      "[0, 0, 4, 4, 7, 9, 10]\n",
      "[1, 3, 3, 6, 6, 10, 11]\n",
      "[2, 2, 2, 5, 7, 8, 10]\n",
      "[0, 0, 1, 2, 4, 7, 11]\n",
      "Время выполнения:  0.0016591548919677734 sec\n"
     ]
    }
   ],
   "source": [
    "Tournament_sort_matrix = copy.deepcopy(matrix)\n",
    "A= time.time()\n",
    "TournamentSort(Tournament_sort_matrix)\n",
    "B= time.time()-A\n",
    "print(\"Турнирная сортировка\")\n",
    "for i in range(len(Tournament_sort_matrix)):\n",
    "    print(Tournament_sort_matrix[i])\n",
    "print(\"Время выполнения: \", B,\"sec\")"
   ]
  },
  {
   "cell_type": "code",
   "execution_count": 39,
   "id": "7f1c1075",
   "metadata": {},
   "outputs": [
    {
     "name": "stdout",
     "output_type": "stream",
     "text": [
      "Пирамидальная сортировка\n",
      "[0, 4, 5, 5, 7, 8, 8]\n",
      "[0, 1, 2, 4, 5, 10, 11]\n",
      "[0, 4, 4, 5, 7, 8, 8]\n",
      "[0, 0, 4, 4, 7, 9, 10]\n",
      "[1, 3, 3, 6, 6, 10, 11]\n",
      "[2, 2, 2, 5, 7, 8, 10]\n",
      "[0, 0, 1, 2, 4, 7, 11]\n",
      "Время выполнения:  0.0 sec\n"
     ]
    }
   ],
   "source": [
    "heapSort_matrix = copy.deepcopy(matrix)\n",
    "A= time.time()\n",
    "heapSort(heapSort_matrix)\n",
    "B= time.time()-A\n",
    "print(\"Пирамидальная сортировка\")\n",
    "for i in range(len(heapSort_matrix)):\n",
    "    print(heapSort_matrix[i])\n",
    "print(\"Время выполнения: \", B,\"sec\")"
   ]
  },
  {
   "cell_type": "code",
   "execution_count": 49,
   "id": "184b7d78",
   "metadata": {},
   "outputs": [
    {
     "name": "stdout",
     "output_type": "stream",
     "text": [
      "Быстрая сортировка\n",
      "[0, 4, 5, 5, 7, 8, 8]\n",
      "[0, 1, 2, 4, 5, 10, 11]\n",
      "[0, 4, 4, 5, 7, 8, 8]\n",
      "[0, 0, 4, 4, 7, 9, 10]\n",
      "[1, 3, 3, 6, 6, 10, 11]\n",
      "[2, 2, 2, 5, 7, 8, 10]\n",
      "[0, 0, 1, 2, 4, 7, 11]\n",
      "Время выполнения:  0.0 sec\n"
     ]
    }
   ],
   "source": [
    "quick_sort_matrix = copy.deepcopy(matrix)\n",
    "A= time.time()\n",
    "Quick_sort_slice(quick_sort_matrix)\n",
    "B= time.time()-A\n",
    "print(\"Быстрая сортировка\")\n",
    "for i in range(len(quick_sort_matrix)):\n",
    "    print(quick_sort_matrix[i])\n",
    "print(\"Время выполнения: \", B,\"sec\")"
   ]
  },
  {
   "cell_type": "code",
   "execution_count": 41,
   "id": "46f88c20",
   "metadata": {},
   "outputs": [
    {
     "name": "stdout",
     "output_type": "stream",
     "text": [
      "Стандартная сортировка\n",
      "[0, 4, 5, 5, 7, 8, 8]\n",
      "[0, 1, 2, 4, 5, 10, 11]\n",
      "[0, 4, 4, 5, 7, 8, 8]\n",
      "[0, 0, 4, 4, 7, 9, 10]\n",
      "[1, 3, 3, 6, 6, 10, 11]\n",
      "[2, 2, 2, 5, 7, 8, 10]\n",
      "[0, 0, 1, 2, 4, 7, 11]\n",
      "Время выполнения:  0.0 sec\n"
     ]
    }
   ],
   "source": [
    "basic_sort = copy.deepcopy(matrix)\n",
    "A= time.time()\n",
    "for i in range(len(basic_sort)):\n",
    "    basic_sort[i].sort()\n",
    "B= time.time()-A\n",
    "print(\"Стандартная сортировка\")\n",
    "for b in range(len(basic_sort)):\n",
    "    print(basic_sort[b])\n",
    "print(\"Время выполнения: \",B,\"sec\")"
   ]
  },
  {
   "cell_type": "markdown",
   "id": "b4e91503",
   "metadata": {},
   "source": [
    "## Задание №4\n",
    "Создать публичный репозиторий на github, и запушить выполненное задание в\n",
    ".ipynb формате."
   ]
  },
  {
   "cell_type": "markdown",
   "id": "15733e3d",
   "metadata": {},
   "source": []
  }
 ],
 "metadata": {
  "kernelspec": {
   "display_name": "Python 3 (ipykernel)",
   "language": "python",
   "name": "python3"
  },
  "language_info": {
   "codemirror_mode": {
    "name": "ipython",
    "version": 3
   },
   "file_extension": ".py",
   "mimetype": "text/x-python",
   "name": "python",
   "nbconvert_exporter": "python",
   "pygments_lexer": "ipython3",
   "version": "3.10.1"
  }
 },
 "nbformat": 4,
 "nbformat_minor": 5
}
